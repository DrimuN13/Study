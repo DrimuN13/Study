{
  "nbformat": 4,
  "nbformat_minor": 0,
  "metadata": {
    "colab": {
      "name": "Untitled0.ipynb",
      "provenance": [],
      "collapsed_sections": []
    },
    "kernelspec": {
      "name": "python3",
      "display_name": "Python 3"
    }
  },
  "cells": [
    {
      "cell_type": "code",
      "metadata": {
        "id": "0ZfVkM5rG1dB",
        "colab_type": "code",
        "colab": {
          "base_uri": "https://localhost:8080/",
          "height": 442
        },
        "outputId": "43a0766d-e383-4f66-a143-0cb717324345"
      },
      "source": [
        "import numpy as np\n",
        "\n",
        "Array_Size = 11\n",
        "Array = np.zeros((Array_Size, Array_Size))\n",
        "\n",
        "print('Basic array:\\n', Array)\n",
        "\n",
        "for i in range(Array_Size):\n",
        "  for j in range(Array_Size):\n",
        "    if (i == j):\n",
        "      Array[i][j] = 1\n",
        "    elif (i == Array_Size - j - 1):\n",
        "      Array[i][j] = 1\n",
        "\n",
        "print('\\nNew array:\\n', Array)"
      ],
      "execution_count": 10,
      "outputs": [
        {
          "output_type": "stream",
          "text": [
            "Basic array:\n",
            " [[0. 0. 0. 0. 0. 0. 0. 0. 0. 0. 0.]\n",
            " [0. 0. 0. 0. 0. 0. 0. 0. 0. 0. 0.]\n",
            " [0. 0. 0. 0. 0. 0. 0. 0. 0. 0. 0.]\n",
            " [0. 0. 0. 0. 0. 0. 0. 0. 0. 0. 0.]\n",
            " [0. 0. 0. 0. 0. 0. 0. 0. 0. 0. 0.]\n",
            " [0. 0. 0. 0. 0. 0. 0. 0. 0. 0. 0.]\n",
            " [0. 0. 0. 0. 0. 0. 0. 0. 0. 0. 0.]\n",
            " [0. 0. 0. 0. 0. 0. 0. 0. 0. 0. 0.]\n",
            " [0. 0. 0. 0. 0. 0. 0. 0. 0. 0. 0.]\n",
            " [0. 0. 0. 0. 0. 0. 0. 0. 0. 0. 0.]\n",
            " [0. 0. 0. 0. 0. 0. 0. 0. 0. 0. 0.]]\n",
            "\n",
            "New array:\n",
            " [[1. 0. 0. 0. 0. 0. 0. 0. 0. 0. 1.]\n",
            " [0. 1. 0. 0. 0. 0. 0. 0. 0. 1. 0.]\n",
            " [0. 0. 1. 0. 0. 0. 0. 0. 1. 0. 0.]\n",
            " [0. 0. 0. 1. 0. 0. 0. 1. 0. 0. 0.]\n",
            " [0. 0. 0. 0. 1. 0. 1. 0. 0. 0. 0.]\n",
            " [0. 0. 0. 0. 0. 1. 0. 0. 0. 0. 0.]\n",
            " [0. 0. 0. 0. 1. 0. 1. 0. 0. 0. 0.]\n",
            " [0. 0. 0. 1. 0. 0. 0. 1. 0. 0. 0.]\n",
            " [0. 0. 1. 0. 0. 0. 0. 0. 1. 0. 0.]\n",
            " [0. 1. 0. 0. 0. 0. 0. 0. 0. 1. 0.]\n",
            " [1. 0. 0. 0. 0. 0. 0. 0. 0. 0. 1.]]\n"
          ],
          "name": "stdout"
        }
      ]
    },
    {
      "cell_type": "code",
      "metadata": {
        "id": "6_8pk-VqKzmD",
        "colab_type": "code",
        "colab": {
          "base_uri": "https://localhost:8080/",
          "height": 34
        },
        "outputId": "68ed0f09-641b-440a-cb77-4d74c1dc3763"
      },
      "source": [
        "import cv2\n",
        "import numpy as np\n",
        "\n",
        "H_G_1 = np.zeros((255, 255))\n",
        "Width_H_1 = H_G_1.shape[1]\n",
        "Height_H_1 = H_G_1.shape[0]\n",
        "\n",
        "for i in range(Height_H_1):\n",
        "    for j in range(Width_H_1):\n",
        "        H_G_1[i][j] = ++j\n",
        "\n",
        "cv2.imwrite('Horizontal_gradient_1.jpg', H_G_1)\n",
        "\n",
        "H_G_2 = np.zeros((255, 255))\n",
        "Width_H_2 = H_G_2.shape[0]\n",
        "Height_H_2 = H_G_2.shape[1]\n",
        "\n",
        "for i in range(Height_H_2):\n",
        "    for j in range(Width_H_2):\n",
        "        H_G_2[i][j] = Width_H_2 - j     \n",
        "\n",
        "cv2.imwrite('Horizontal_gradient_2.jpg', H_G_2)\n",
        "\n",
        "\n",
        "V_G_1 = np.zeros((255, 255))\n",
        "Width_V_1 = V_G_1.shape[1]\n",
        "Height_V_1 = V_G_1.shape[0]\n",
        "\n",
        "for i in range(Width_V_1):\n",
        "    for j in range(Height_V_1):\n",
        "        V_G_1[i][j] = ++i\n",
        "\n",
        "cv2.imwrite('Vertical_gradient_1.jpg', V_G_1)\n",
        "\n",
        "V_G_2 = np.zeros((255, 255))\n",
        "Width_V_2 = V_G_2.shape[1]\n",
        "Height_V_2 = V_G_2.shape[0]\n",
        "\n",
        "for i in range(Width_V_2):\n",
        "    for j in range(Height_V_2):\n",
        "        V_G_2[i][j] = Width_V_2 - i     \n",
        "\n",
        "cv2.imwrite('Vertical_gradient_2.jpg', V_G_2)"
      ],
      "execution_count": 16,
      "outputs": [
        {
          "output_type": "execute_result",
          "data": {
            "text/plain": [
              "True"
            ]
          },
          "metadata": {
            "tags": []
          },
          "execution_count": 16
        }
      ]
    }
  ]
}